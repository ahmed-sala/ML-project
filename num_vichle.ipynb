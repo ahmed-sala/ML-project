{
 "cells": [
  {
   "cell_type": "markdown",
   "source": [
    "Importing th dependencies"
   ],
   "metadata": {
    "collapsed": false
   },
   "id": "12a9caff0ac4a7e7"
  },
  {
   "cell_type": "code",
   "execution_count": 143,
   "id": "initial_id",
   "metadata": {
    "collapsed": true,
    "ExecuteTime": {
     "end_time": "2023-12-11T22:03:18.348110700Z",
     "start_time": "2023-12-11T22:03:18.269346200Z"
    }
   },
   "outputs": [],
   "source": [
    "import  pandas as pd\n",
    "import matplotlib.pyplot as plt\n",
    "import  seaborn as sns\n",
    "from sklearn.model_selection import train_test_split\n",
    "from  sklearn.linear_model import LinearRegression\n",
    "from sklearn import metrics\n",
    "from sklearn.model_selection import KFold, cross_val_score,cross_val_predict\n",
    "import numpy as np\n",
    "from sklearn.neighbors import KNeighborsRegressor\n",
    "\n"
   ]
  },
  {
   "cell_type": "markdown",
   "source": [
    "data collection and processing"
   ],
   "metadata": {
    "collapsed": false
   },
   "id": "fa1482e5530f0b75"
  },
  {
   "cell_type": "code",
   "execution_count": 144,
   "outputs": [],
   "source": [
    "# loading the data from csv file to pandas dataframe\n",
    "car_dataset=pd.read_csv('car data.csv')\n"
   ],
   "metadata": {
    "collapsed": false,
    "ExecuteTime": {
     "end_time": "2023-12-11T22:03:18.363065200Z",
     "start_time": "2023-12-11T22:03:18.276859400Z"
    }
   },
   "id": "ec8589813fd23258"
  },
  {
   "cell_type": "code",
   "execution_count": 145,
   "outputs": [
    {
     "data": {
      "text/plain": "  Car_Name  Year  Selling_Price  Present_Price  Kms_Driven Fuel_Type  \\\n0     ritz  2014           3.35           5.59       27000    Petrol   \n1      sx4  2013           4.75           9.54       43000    Diesel   \n2     ciaz  2017           7.25           9.85        6900    Petrol   \n3  wagon r  2011           2.85           4.15        5200    Petrol   \n4    swift  2014           4.60           6.87       42450    Diesel   \n\n  Seller_Type Transmission  Owner  \n0      Dealer       Manual      0  \n1      Dealer       Manual      0  \n2      Dealer       Manual      0  \n3      Dealer       Manual      0  \n4      Dealer       Manual      0  ",
      "text/html": "<div>\n<style scoped>\n    .dataframe tbody tr th:only-of-type {\n        vertical-align: middle;\n    }\n\n    .dataframe tbody tr th {\n        vertical-align: top;\n    }\n\n    .dataframe thead th {\n        text-align: right;\n    }\n</style>\n<table border=\"1\" class=\"dataframe\">\n  <thead>\n    <tr style=\"text-align: right;\">\n      <th></th>\n      <th>Car_Name</th>\n      <th>Year</th>\n      <th>Selling_Price</th>\n      <th>Present_Price</th>\n      <th>Kms_Driven</th>\n      <th>Fuel_Type</th>\n      <th>Seller_Type</th>\n      <th>Transmission</th>\n      <th>Owner</th>\n    </tr>\n  </thead>\n  <tbody>\n    <tr>\n      <th>0</th>\n      <td>ritz</td>\n      <td>2014</td>\n      <td>3.35</td>\n      <td>5.59</td>\n      <td>27000</td>\n      <td>Petrol</td>\n      <td>Dealer</td>\n      <td>Manual</td>\n      <td>0</td>\n    </tr>\n    <tr>\n      <th>1</th>\n      <td>sx4</td>\n      <td>2013</td>\n      <td>4.75</td>\n      <td>9.54</td>\n      <td>43000</td>\n      <td>Diesel</td>\n      <td>Dealer</td>\n      <td>Manual</td>\n      <td>0</td>\n    </tr>\n    <tr>\n      <th>2</th>\n      <td>ciaz</td>\n      <td>2017</td>\n      <td>7.25</td>\n      <td>9.85</td>\n      <td>6900</td>\n      <td>Petrol</td>\n      <td>Dealer</td>\n      <td>Manual</td>\n      <td>0</td>\n    </tr>\n    <tr>\n      <th>3</th>\n      <td>wagon r</td>\n      <td>2011</td>\n      <td>2.85</td>\n      <td>4.15</td>\n      <td>5200</td>\n      <td>Petrol</td>\n      <td>Dealer</td>\n      <td>Manual</td>\n      <td>0</td>\n    </tr>\n    <tr>\n      <th>4</th>\n      <td>swift</td>\n      <td>2014</td>\n      <td>4.60</td>\n      <td>6.87</td>\n      <td>42450</td>\n      <td>Diesel</td>\n      <td>Dealer</td>\n      <td>Manual</td>\n      <td>0</td>\n    </tr>\n  </tbody>\n</table>\n</div>"
     },
     "execution_count": 145,
     "metadata": {},
     "output_type": "execute_result"
    }
   ],
   "source": [
    "# inspecting the first five rows of the dataframe\n",
    "car_dataset.head()\n"
   ],
   "metadata": {
    "collapsed": false,
    "ExecuteTime": {
     "end_time": "2023-12-11T22:03:18.473703500Z",
     "start_time": "2023-12-11T22:03:18.288336900Z"
    }
   },
   "id": "128875deb4cfab8b"
  },
  {
   "cell_type": "markdown",
   "source": [
    "describe the dataset"
   ],
   "metadata": {
    "collapsed": false
   },
   "id": "c2ab98bcf5ab484d"
  },
  {
   "cell_type": "code",
   "execution_count": 146,
   "outputs": [
    {
     "data": {
      "text/plain": "              Year  Selling_Price  Present_Price     Kms_Driven       Owner\ncount   301.000000     301.000000     301.000000     301.000000  301.000000\nmean   2013.627907       4.661296       7.628472   36947.205980    0.043189\nstd       2.891554       5.082812       8.644115   38886.883882    0.247915\nmin    2003.000000       0.100000       0.320000     500.000000    0.000000\n25%    2012.000000       0.900000       1.200000   15000.000000    0.000000\n50%    2014.000000       3.600000       6.400000   32000.000000    0.000000\n75%    2016.000000       6.000000       9.900000   48767.000000    0.000000\nmax    2018.000000      35.000000      92.600000  500000.000000    3.000000",
      "text/html": "<div>\n<style scoped>\n    .dataframe tbody tr th:only-of-type {\n        vertical-align: middle;\n    }\n\n    .dataframe tbody tr th {\n        vertical-align: top;\n    }\n\n    .dataframe thead th {\n        text-align: right;\n    }\n</style>\n<table border=\"1\" class=\"dataframe\">\n  <thead>\n    <tr style=\"text-align: right;\">\n      <th></th>\n      <th>Year</th>\n      <th>Selling_Price</th>\n      <th>Present_Price</th>\n      <th>Kms_Driven</th>\n      <th>Owner</th>\n    </tr>\n  </thead>\n  <tbody>\n    <tr>\n      <th>count</th>\n      <td>301.000000</td>\n      <td>301.000000</td>\n      <td>301.000000</td>\n      <td>301.000000</td>\n      <td>301.000000</td>\n    </tr>\n    <tr>\n      <th>mean</th>\n      <td>2013.627907</td>\n      <td>4.661296</td>\n      <td>7.628472</td>\n      <td>36947.205980</td>\n      <td>0.043189</td>\n    </tr>\n    <tr>\n      <th>std</th>\n      <td>2.891554</td>\n      <td>5.082812</td>\n      <td>8.644115</td>\n      <td>38886.883882</td>\n      <td>0.247915</td>\n    </tr>\n    <tr>\n      <th>min</th>\n      <td>2003.000000</td>\n      <td>0.100000</td>\n      <td>0.320000</td>\n      <td>500.000000</td>\n      <td>0.000000</td>\n    </tr>\n    <tr>\n      <th>25%</th>\n      <td>2012.000000</td>\n      <td>0.900000</td>\n      <td>1.200000</td>\n      <td>15000.000000</td>\n      <td>0.000000</td>\n    </tr>\n    <tr>\n      <th>50%</th>\n      <td>2014.000000</td>\n      <td>3.600000</td>\n      <td>6.400000</td>\n      <td>32000.000000</td>\n      <td>0.000000</td>\n    </tr>\n    <tr>\n      <th>75%</th>\n      <td>2016.000000</td>\n      <td>6.000000</td>\n      <td>9.900000</td>\n      <td>48767.000000</td>\n      <td>0.000000</td>\n    </tr>\n    <tr>\n      <th>max</th>\n      <td>2018.000000</td>\n      <td>35.000000</td>\n      <td>92.600000</td>\n      <td>500000.000000</td>\n      <td>3.000000</td>\n    </tr>\n  </tbody>\n</table>\n</div>"
     },
     "execution_count": 146,
     "metadata": {},
     "output_type": "execute_result"
    }
   ],
   "source": [
    "car_dataset.describe()"
   ],
   "metadata": {
    "collapsed": false,
    "ExecuteTime": {
     "end_time": "2023-12-11T22:03:18.491731500Z",
     "start_time": "2023-12-11T22:03:18.294353400Z"
    }
   },
   "id": "3fdb0558da1134bd"
  },
  {
   "cell_type": "markdown",
   "source": [
    "check values"
   ],
   "metadata": {
    "collapsed": false
   },
   "id": "b4d9b3ace1abb6e7"
  },
  {
   "cell_type": "markdown",
   "source": [
    "Encoding categorical data"
   ],
   "metadata": {
    "collapsed": false
   },
   "id": "5470a02f10b27d2f"
  },
  {
   "cell_type": "code",
   "execution_count": 147,
   "outputs": [
    {
     "name": "stdout",
     "output_type": "stream",
     "text": [
      "  Car_Name  Year  Age  Selling_Price  Present_Price  Kms_Driven  Fuel_Type  \\\n",
      "0     ritz  2014    9           3.35           5.59       27000          0   \n",
      "1      sx4  2013   10           4.75           9.54       43000          1   \n",
      "2     ciaz  2017    6           7.25           9.85        6900          0   \n",
      "3  wagon r  2011   12           2.85           4.15        5200          0   \n",
      "4    swift  2014    9           4.60           6.87       42450          1   \n",
      "\n",
      "   Seller_Type  Transmission  Owner  \n",
      "0            0             0      0  \n",
      "1            0             0      0  \n",
      "2            0             0      0  \n",
      "3            0             0      0  \n",
      "4            0             0      0  \n"
     ]
    }
   ],
   "source": [
    "\n",
    "Age = []\n",
    "for i in car_dataset['Year']:\n",
    "    Age.append(2023-i)\n",
    "car_dataset.insert(2, 'Age', Age)\n",
    "fuel_type_mapping = {'Petrol': 0, 'Diesel': 1, 'CNG': 2}\n",
    "car_dataset['Fuel_Type'] = car_dataset['Fuel_Type'].replace(fuel_type_mapping)\n",
    "\n",
    "# Encoding seller type\n",
    "seller_type_mapping = {'Dealer': 0, 'Individual': 1}\n",
    "car_dataset['Seller_Type'] = car_dataset['Seller_Type'].replace(seller_type_mapping)\n",
    "\n",
    "# Encoding transmission\n",
    "transmission_mapping = {'Manual': 0, 'Automatic': 1}\n",
    "car_dataset['Transmission'] = car_dataset['Transmission'].replace(transmission_mapping)\n",
    "\n",
    "# Displaying the first few rows of the updated dataset\n",
    "print(car_dataset.head())"
   ],
   "metadata": {
    "collapsed": false,
    "ExecuteTime": {
     "end_time": "2023-12-11T22:03:18.505244300Z",
     "start_time": "2023-12-11T22:03:18.311565600Z"
    }
   },
   "id": "ae23f4fd57a3379"
  },
  {
   "cell_type": "code",
   "execution_count": 148,
   "outputs": [
    {
     "name": "stdout",
     "output_type": "stream",
     "text": [
      "<class 'pandas.core.frame.DataFrame'>\n",
      "RangeIndex: 301 entries, 0 to 300\n",
      "Data columns (total 10 columns):\n",
      " #   Column         Non-Null Count  Dtype  \n",
      "---  ------         --------------  -----  \n",
      " 0   Car_Name       301 non-null    object \n",
      " 1   Year           301 non-null    int64  \n",
      " 2   Age            301 non-null    int64  \n",
      " 3   Selling_Price  301 non-null    float64\n",
      " 4   Present_Price  301 non-null    float64\n",
      " 5   Kms_Driven     301 non-null    int64  \n",
      " 6   Fuel_Type      301 non-null    int64  \n",
      " 7   Seller_Type    301 non-null    int64  \n",
      " 8   Transmission   301 non-null    int64  \n",
      " 9   Owner          301 non-null    int64  \n",
      "dtypes: float64(2), int64(7), object(1)\n",
      "memory usage: 23.6+ KB\n"
     ]
    }
   ],
   "source": [
    "car_dataset.info()\n"
   ],
   "metadata": {
    "collapsed": false,
    "ExecuteTime": {
     "end_time": "2023-12-11T22:03:18.549067500Z",
     "start_time": "2023-12-11T22:03:18.321825800Z"
    }
   },
   "id": "399bf7b2254b3192"
  },
  {
   "cell_type": "markdown",
   "source": [
    "Splitting the data and target "
   ],
   "metadata": {
    "collapsed": false
   },
   "id": "21b18fc4911984be"
  },
  {
   "cell_type": "code",
   "execution_count": 149,
   "outputs": [],
   "source": [
    "x=car_dataset.drop(['Car_Name','Selling_Price'],axis=1)\n",
    "y=car_dataset['Selling_Price']"
   ],
   "metadata": {
    "collapsed": false,
    "ExecuteTime": {
     "end_time": "2023-12-11T22:03:18.549067500Z",
     "start_time": "2023-12-11T22:03:18.331903300Z"
    }
   },
   "id": "db970091b1ebba56"
  },
  {
   "cell_type": "code",
   "execution_count": 150,
   "outputs": [
    {
     "name": "stdout",
     "output_type": "stream",
     "text": [
      "   Year  Age  Present_Price  Kms_Driven  Fuel_Type  Seller_Type  Transmission  \\\n",
      "0  2014    9           5.59       27000          0            0             0   \n",
      "1  2013   10           9.54       43000          1            0             0   \n",
      "2  2017    6           9.85        6900          0            0             0   \n",
      "3  2011   12           4.15        5200          0            0             0   \n",
      "4  2014    9           6.87       42450          1            0             0   \n",
      "\n",
      "   Owner  \n",
      "0      0  \n",
      "1      0  \n",
      "2      0  \n",
      "3      0  \n",
      "4      0  \n"
     ]
    }
   ],
   "source": [
    "print(x.head())"
   ],
   "metadata": {
    "collapsed": false,
    "ExecuteTime": {
     "end_time": "2023-12-11T22:03:18.549067500Z",
     "start_time": "2023-12-11T22:03:18.339079200Z"
    }
   },
   "id": "c417bd3a35941fc6"
  },
  {
   "cell_type": "markdown",
   "source": [
    "split car_data set to training and testing sets"
   ],
   "metadata": {
    "collapsed": false
   },
   "id": "3ebc30f9872a96c7"
  },
  {
   "cell_type": "code",
   "execution_count": 151,
   "outputs": [],
   "source": [
    "X_train,X_test,y_train,y_test=train_test_split(x,y,random_state=42,test_size=0.2)"
   ],
   "metadata": {
    "collapsed": false,
    "ExecuteTime": {
     "end_time": "2023-12-11T22:03:18.551067200Z",
     "start_time": "2023-12-11T22:03:18.348110700Z"
    }
   },
   "id": "30534bce5b6691a6"
  },
  {
   "cell_type": "markdown",
   "source": [
    "Train our model in linear regression "
   ],
   "metadata": {
    "collapsed": false
   },
   "id": "7cd132af9dcbeae0"
  },
  {
   "cell_type": "code",
   "execution_count": 152,
   "outputs": [],
   "source": [
    "from sklearn.preprocessing import StandardScaler\n",
    "scaler=StandardScaler()\n",
    "scaler.fit(X_train)\n",
    "X_train=scaler.transform(X_train)\n",
    "X_test=scaler.transform(X_test)\n"
   ],
   "metadata": {
    "collapsed": false,
    "ExecuteTime": {
     "end_time": "2023-12-11T22:03:18.552066500Z",
     "start_time": "2023-12-11T22:03:18.354908100Z"
    }
   },
   "id": "b190bf0dd459c084"
  },
  {
   "cell_type": "code",
   "execution_count": 153,
   "outputs": [
    {
     "data": {
      "text/plain": "Ridge()",
      "text/html": "<style>#sk-container-id-14 {color: black;}#sk-container-id-14 pre{padding: 0;}#sk-container-id-14 div.sk-toggleable {background-color: white;}#sk-container-id-14 label.sk-toggleable__label {cursor: pointer;display: block;width: 100%;margin-bottom: 0;padding: 0.3em;box-sizing: border-box;text-align: center;}#sk-container-id-14 label.sk-toggleable__label-arrow:before {content: \"▸\";float: left;margin-right: 0.25em;color: #696969;}#sk-container-id-14 label.sk-toggleable__label-arrow:hover:before {color: black;}#sk-container-id-14 div.sk-estimator:hover label.sk-toggleable__label-arrow:before {color: black;}#sk-container-id-14 div.sk-toggleable__content {max-height: 0;max-width: 0;overflow: hidden;text-align: left;background-color: #f0f8ff;}#sk-container-id-14 div.sk-toggleable__content pre {margin: 0.2em;color: black;border-radius: 0.25em;background-color: #f0f8ff;}#sk-container-id-14 input.sk-toggleable__control:checked~div.sk-toggleable__content {max-height: 200px;max-width: 100%;overflow: auto;}#sk-container-id-14 input.sk-toggleable__control:checked~label.sk-toggleable__label-arrow:before {content: \"▾\";}#sk-container-id-14 div.sk-estimator input.sk-toggleable__control:checked~label.sk-toggleable__label {background-color: #d4ebff;}#sk-container-id-14 div.sk-label input.sk-toggleable__control:checked~label.sk-toggleable__label {background-color: #d4ebff;}#sk-container-id-14 input.sk-hidden--visually {border: 0;clip: rect(1px 1px 1px 1px);clip: rect(1px, 1px, 1px, 1px);height: 1px;margin: -1px;overflow: hidden;padding: 0;position: absolute;width: 1px;}#sk-container-id-14 div.sk-estimator {font-family: monospace;background-color: #f0f8ff;border: 1px dotted black;border-radius: 0.25em;box-sizing: border-box;margin-bottom: 0.5em;}#sk-container-id-14 div.sk-estimator:hover {background-color: #d4ebff;}#sk-container-id-14 div.sk-parallel-item::after {content: \"\";width: 100%;border-bottom: 1px solid gray;flex-grow: 1;}#sk-container-id-14 div.sk-label:hover label.sk-toggleable__label {background-color: #d4ebff;}#sk-container-id-14 div.sk-serial::before {content: \"\";position: absolute;border-left: 1px solid gray;box-sizing: border-box;top: 0;bottom: 0;left: 50%;z-index: 0;}#sk-container-id-14 div.sk-serial {display: flex;flex-direction: column;align-items: center;background-color: white;padding-right: 0.2em;padding-left: 0.2em;position: relative;}#sk-container-id-14 div.sk-item {position: relative;z-index: 1;}#sk-container-id-14 div.sk-parallel {display: flex;align-items: stretch;justify-content: center;background-color: white;position: relative;}#sk-container-id-14 div.sk-item::before, #sk-container-id-14 div.sk-parallel-item::before {content: \"\";position: absolute;border-left: 1px solid gray;box-sizing: border-box;top: 0;bottom: 0;left: 50%;z-index: -1;}#sk-container-id-14 div.sk-parallel-item {display: flex;flex-direction: column;z-index: 1;position: relative;background-color: white;}#sk-container-id-14 div.sk-parallel-item:first-child::after {align-self: flex-end;width: 50%;}#sk-container-id-14 div.sk-parallel-item:last-child::after {align-self: flex-start;width: 50%;}#sk-container-id-14 div.sk-parallel-item:only-child::after {width: 0;}#sk-container-id-14 div.sk-dashed-wrapped {border: 1px dashed gray;margin: 0 0.4em 0.5em 0.4em;box-sizing: border-box;padding-bottom: 0.4em;background-color: white;}#sk-container-id-14 div.sk-label label {font-family: monospace;font-weight: bold;display: inline-block;line-height: 1.2em;}#sk-container-id-14 div.sk-label-container {text-align: center;}#sk-container-id-14 div.sk-container {/* jupyter's `normalize.less` sets `[hidden] { display: none; }` but bootstrap.min.css set `[hidden] { display: none !important; }` so we also need the `!important` here to be able to override the default hidden behavior on the sphinx rendered scikit-learn.org. See: https://github.com/scikit-learn/scikit-learn/issues/21755 */display: inline-block !important;position: relative;}#sk-container-id-14 div.sk-text-repr-fallback {display: none;}</style><div id=\"sk-container-id-14\" class=\"sk-top-container\"><div class=\"sk-text-repr-fallback\"><pre>Ridge()</pre><b>In a Jupyter environment, please rerun this cell to show the HTML representation or trust the notebook. <br />On GitHub, the HTML representation is unable to render, please try loading this page with nbviewer.org.</b></div><div class=\"sk-container\" hidden><div class=\"sk-item\"><div class=\"sk-estimator sk-toggleable\"><input class=\"sk-toggleable__control sk-hidden--visually\" id=\"sk-estimator-id-14\" type=\"checkbox\" checked><label for=\"sk-estimator-id-14\" class=\"sk-toggleable__label sk-toggleable__label-arrow\">Ridge</label><div class=\"sk-toggleable__content\"><pre>Ridge()</pre></div></div></div></div></div>"
     },
     "execution_count": 153,
     "metadata": {},
     "output_type": "execute_result"
    }
   ],
   "source": [
    "from sklearn.linear_model import Ridge  # Using Ridge regression for regularization\n",
    "\n",
    "# Set hyperparameters\n",
    "alpha = 1.0  # Regularization strength (you can adjust this value)\n",
    "\n",
    "# Initialize Ridge regression model with hyperparameters\n",
    "lin_reg_mod = Ridge(alpha=alpha)\n",
    "lin_reg_mod.fit(X_train, y_train)"
   ],
   "metadata": {
    "collapsed": false,
    "ExecuteTime": {
     "end_time": "2023-12-11T22:03:18.553065200Z",
     "start_time": "2023-12-11T22:03:18.368111800Z"
    }
   },
   "id": "7afe0382e4d9489c"
  },
  {
   "cell_type": "markdown",
   "source": [
    "our model evaluation for training data"
   ],
   "metadata": {
    "collapsed": false
   },
   "id": "74ea8af6b9b4d981"
  },
  {
   "cell_type": "code",
   "execution_count": 154,
   "outputs": [
    {
     "name": "stdout",
     "output_type": "stream",
     "text": [
      "R squared error :  0.8839653291886209\n"
     ]
    }
   ],
   "source": [
    "training_data_prediction=lin_reg_mod.predict(X_train)\n",
    "error_score=metrics.r2_score(y_train,training_data_prediction)\n",
    "print('R squared error : ',error_score)"
   ],
   "metadata": {
    "collapsed": false,
    "ExecuteTime": {
     "end_time": "2023-12-11T22:03:18.553065200Z",
     "start_time": "2023-12-11T22:03:18.379494300Z"
    }
   },
   "id": "5bdd989b94de9535"
  },
  {
   "cell_type": "markdown",
   "source": [
    "Visualize our model "
   ],
   "metadata": {
    "collapsed": false
   },
   "id": "e40165182f5aed4b"
  },
  {
   "cell_type": "code",
   "execution_count": 155,
   "outputs": [
    {
     "data": {
      "text/plain": "<Figure size 640x480 with 1 Axes>",
      "image/png": "[encoded data removed]"
     },
     "metadata": {},
     "output_type": "display_data"
    }
   ],
   "source": [
    "\n",
    "# Scatter plot with different colors for actual and predicted values\n",
    "plt.scatter(y_train, training_data_prediction, c='blue', label='Actual vs Predicted')\n",
    "\n",
    "plt.xlabel('Actual Value')\n",
    "plt.ylabel('Predicted Value')\n",
    "plt.title('Actual Prices vs Predicted Prices')\n",
    "plt.legend()\n",
    "plt.show()\n"
   ],
   "metadata": {
    "collapsed": false,
    "ExecuteTime": {
     "end_time": "2023-12-11T22:03:18.980773Z",
     "start_time": "2023-12-11T22:03:18.385022900Z"
    }
   },
   "id": "24a3c6b9b5970e4"
  },
  {
   "cell_type": "markdown",
   "source": [
    "our model evaluation for test data"
   ],
   "metadata": {
    "collapsed": false
   },
   "id": "4a986cdbba3e3386"
  },
  {
   "cell_type": "code",
   "execution_count": 156,
   "outputs": [],
   "source": [
    "test_data_prediction=lin_reg_mod.predict(X_test)\n",
    "error_score=metrics.r2_score(y_test,test_data_prediction)"
   ],
   "metadata": {
    "collapsed": false,
    "ExecuteTime": {
     "end_time": "2023-12-11T22:03:18.993127Z",
     "start_time": "2023-12-11T22:03:18.982773900Z"
    }
   },
   "id": "cecd85d1db1d5a06"
  },
  {
   "cell_type": "code",
   "execution_count": 157,
   "outputs": [
    {
     "data": {
      "text/plain": "<Figure size 640x480 with 1 Axes>",
      "image/png": "[encoded data removed]"
     },
     "metadata": {},
     "output_type": "display_data"
    }
   ],
   "source": [
    "\n",
    "# Scatter plot with different colors for actual and predicted values\n",
    "plt.scatter(y_test, test_data_prediction, c='blue', label='Actual vs Predicted')\n",
    "\n",
    "plt.xlabel('Actual Value')\n",
    "plt.ylabel('Predicted Value')\n",
    "plt.title('Actual Prices vs Predicted Prices')\n",
    "plt.legend()\n",
    "plt.show()"
   ],
   "metadata": {
    "collapsed": false,
    "ExecuteTime": {
     "end_time": "2023-12-11T22:03:19.165816800Z",
     "start_time": "2023-12-11T22:03:18.989129Z"
    }
   },
   "id": "698de75235db222b"
  },
  {
   "cell_type": "code",
   "execution_count": 158,
   "outputs": [
    {
     "name": "stdout",
     "output_type": "stream",
     "text": [
      "MAE: 1.2227048910739935\n",
      "MSE: 3.5379547821211768\n",
      "RMSE: 1.8809451831781745\n",
      "R squared error :  0.8464135008597299\n"
     ]
    }
   ],
   "source": [
    "#the average of the absolute differences between the predicted values and the actual values.\n",
    "print(\"MAE:\",metrics.mean_absolute_error(y_test,test_data_prediction))\n",
    "#average of the squared differences between the predicted values and the actual values.\n",
    "print(\"MSE:\",metrics.mean_squared_error(y_test,test_data_prediction))\n",
    "#the square root of the MSE. It is often used for easier interpretation, as it is in the same units as the dependent variable.\n",
    "print(\"RMSE:\",np.sqrt(metrics.mean_squared_error(y_test,test_data_prediction)))\n",
    "print('R squared error : ',error_score)\n"
   ],
   "metadata": {
    "collapsed": false,
    "ExecuteTime": {
     "end_time": "2023-12-11T22:03:19.178841800Z",
     "start_time": "2023-12-11T22:03:19.166819Z"
    }
   },
   "id": "88c39cebd14e6e44"
  },
  {
   "cell_type": "code",
   "execution_count": 159,
   "outputs": [
    {
     "data": {
      "text/plain": "<Figure size 640x480 with 1 Axes>",
      "image/png": "[encoded data removed]"
     },
     "metadata": {},
     "output_type": "display_data"
    },
    {
     "name": "stdout",
     "output_type": "stream",
     "text": [
      "Cross-validated R squared scores: [0.84092173 0.76522049 0.80361319 0.74644891 0.87615945]\n",
      "Mean R squared score: 0.8064727551786758\n"
     ]
    }
   ],
   "source": [
    "\n",
    "\n",
    "# Assuming you already have X_train and y_train\n",
    "\n",
    "# Initialize linear regression model\n",
    "\n",
    "\n",
    "# Set up KFold cross-validation\n",
    "kfold = KFold(n_splits=5, shuffle=True, random_state=42)\n",
    "\n",
    "# Perform cross-validation\n",
    "predicted = cross_val_predict(lin_reg_mod, X_train, y_train, cv=kfold)\n",
    "\n",
    "# Scatter plot with different colors for actual and predicted values\n",
    "plt.scatter(y_train, predicted, c='blue', label='Actual vs Predicted')\n",
    "\n",
    "plt.xlabel('Actual Value')\n",
    "plt.ylabel('Predicted Value')\n",
    "plt.title('Actual Prices vs Predicted Prices (Cross-Validation)')\n",
    "plt.legend()\n",
    "plt.show()\n",
    "\n",
    "# Evaluate cross-validated R squared scores\n",
    "results = cross_val_score(lin_reg_mod, X_train, y_train, cv=kfold)\n",
    "print(\"Cross-validated R squared scores:\", results)\n",
    "print(\"Mean R squared score:\", np.mean(results))\n"
   ],
   "metadata": {
    "collapsed": false,
    "ExecuteTime": {
     "end_time": "2023-12-11T22:03:19.404769500Z",
     "start_time": "2023-12-11T22:03:19.173330500Z"
    }
   },
   "id": "65a3b461b8eb4032"
  },
  {
   "cell_type": "code",
   "execution_count": 160,
   "outputs": [
    {
     "data": {
      "text/plain": "KNeighborsRegressor()",
      "text/html": "<style>#sk-container-id-15 {color: black;}#sk-container-id-15 pre{padding: 0;}#sk-container-id-15 div.sk-toggleable {background-color: white;}#sk-container-id-15 label.sk-toggleable__label {cursor: pointer;display: block;width: 100%;margin-bottom: 0;padding: 0.3em;box-sizing: border-box;text-align: center;}#sk-container-id-15 label.sk-toggleable__label-arrow:before {content: \"▸\";float: left;margin-right: 0.25em;color: #696969;}#sk-container-id-15 label.sk-toggleable__label-arrow:hover:before {color: black;}#sk-container-id-15 div.sk-estimator:hover label.sk-toggleable__label-arrow:before {color: black;}#sk-container-id-15 div.sk-toggleable__content {max-height: 0;max-width: 0;overflow: hidden;text-align: left;background-color: #f0f8ff;}#sk-container-id-15 div.sk-toggleable__content pre {margin: 0.2em;color: black;border-radius: 0.25em;background-color: #f0f8ff;}#sk-container-id-15 input.sk-toggleable__control:checked~div.sk-toggleable__content {max-height: 200px;max-width: 100%;overflow: auto;}#sk-container-id-15 input.sk-toggleable__control:checked~label.sk-toggleable__label-arrow:before {content: \"▾\";}#sk-container-id-15 div.sk-estimator input.sk-toggleable__control:checked~label.sk-toggleable__label {background-color: #d4ebff;}#sk-container-id-15 div.sk-label input.sk-toggleable__control:checked~label.sk-toggleable__label {background-color: #d4ebff;}#sk-container-id-15 input.sk-hidden--visually {border: 0;clip: rect(1px 1px 1px 1px);clip: rect(1px, 1px, 1px, 1px);height: 1px;margin: -1px;overflow: hidden;padding: 0;position: absolute;width: 1px;}#sk-container-id-15 div.sk-estimator {font-family: monospace;background-color: #f0f8ff;border: 1px dotted black;border-radius: 0.25em;box-sizing: border-box;margin-bottom: 0.5em;}#sk-container-id-15 div.sk-estimator:hover {background-color: #d4ebff;}#sk-container-id-15 div.sk-parallel-item::after {content: \"\";width: 100%;border-bottom: 1px solid gray;flex-grow: 1;}#sk-container-id-15 div.sk-label:hover label.sk-toggleable__label {background-color: #d4ebff;}#sk-container-id-15 div.sk-serial::before {content: \"\";position: absolute;border-left: 1px solid gray;box-sizing: border-box;top: 0;bottom: 0;left: 50%;z-index: 0;}#sk-container-id-15 div.sk-serial {display: flex;flex-direction: column;align-items: center;background-color: white;padding-right: 0.2em;padding-left: 0.2em;position: relative;}#sk-container-id-15 div.sk-item {position: relative;z-index: 1;}#sk-container-id-15 div.sk-parallel {display: flex;align-items: stretch;justify-content: center;background-color: white;position: relative;}#sk-container-id-15 div.sk-item::before, #sk-container-id-15 div.sk-parallel-item::before {content: \"\";position: absolute;border-left: 1px solid gray;box-sizing: border-box;top: 0;bottom: 0;left: 50%;z-index: -1;}#sk-container-id-15 div.sk-parallel-item {display: flex;flex-direction: column;z-index: 1;position: relative;background-color: white;}#sk-container-id-15 div.sk-parallel-item:first-child::after {align-self: flex-end;width: 50%;}#sk-container-id-15 div.sk-parallel-item:last-child::after {align-self: flex-start;width: 50%;}#sk-container-id-15 div.sk-parallel-item:only-child::after {width: 0;}#sk-container-id-15 div.sk-dashed-wrapped {border: 1px dashed gray;margin: 0 0.4em 0.5em 0.4em;box-sizing: border-box;padding-bottom: 0.4em;background-color: white;}#sk-container-id-15 div.sk-label label {font-family: monospace;font-weight: bold;display: inline-block;line-height: 1.2em;}#sk-container-id-15 div.sk-label-container {text-align: center;}#sk-container-id-15 div.sk-container {/* jupyter's `normalize.less` sets `[hidden] { display: none; }` but bootstrap.min.css set `[hidden] { display: none !important; }` so we also need the `!important` here to be able to override the default hidden behavior on the sphinx rendered scikit-learn.org. See: https://github.com/scikit-learn/scikit-learn/issues/21755 */display: inline-block !important;position: relative;}#sk-container-id-15 div.sk-text-repr-fallback {display: none;}</style><div id=\"sk-container-id-15\" class=\"sk-top-container\"><div class=\"sk-text-repr-fallback\"><pre>KNeighborsRegressor()</pre><b>In a Jupyter environment, please rerun this cell to show the HTML representation or trust the notebook. <br />On GitHub, the HTML representation is unable to render, please try loading this page with nbviewer.org.</b></div><div class=\"sk-container\" hidden><div class=\"sk-item\"><div class=\"sk-estimator sk-toggleable\"><input class=\"sk-toggleable__control sk-hidden--visually\" id=\"sk-estimator-id-15\" type=\"checkbox\" checked><label for=\"sk-estimator-id-15\" class=\"sk-toggleable__label sk-toggleable__label-arrow\">KNeighborsRegressor</label><div class=\"sk-toggleable__content\"><pre>KNeighborsRegressor()</pre></div></div></div></div></div>"
     },
     "execution_count": 160,
     "metadata": {},
     "output_type": "execute_result"
    }
   ],
   "source": [
    "regressor=KNeighborsRegressor(n_neighbors=5)\n",
    "regressor.fit(X_train, y_train)\n"
   ],
   "metadata": {
    "collapsed": false,
    "ExecuteTime": {
     "end_time": "2023-12-11T22:03:19.406768200Z",
     "start_time": "2023-12-11T22:03:19.401284800Z"
    }
   },
   "id": "cdd9a65bd025f4f4"
  },
  {
   "cell_type": "code",
   "execution_count": 161,
   "outputs": [
    {
     "name": "stdout",
     "output_type": "stream",
     "text": [
      "Mean Squared Error: 1.5807358688524593\n",
      "R-squared: 0.9313785214583935\n"
     ]
    }
   ],
   "source": [
    "y_pred=regressor.predict(X_test)\n",
    "from sklearn.metrics import mean_squared_error, r2_score\n",
    "\n",
    "# Assuming y_test is the actual target values for your test set\n",
    "# If you have a regression problem, you might use metrics like Mean Squared Error (MSE) and R-squared (R2)\n",
    "mse = mean_squared_error(y_test, y_pred)\n",
    "r2 = r2_score(y_test, y_pred)\n",
    "\n",
    "print(f'Mean Squared Error: {mse}')\n",
    "print(f'R-squared: {r2}')"
   ],
   "metadata": {
    "collapsed": false,
    "ExecuteTime": {
     "end_time": "2023-12-11T22:03:19.474751Z",
     "start_time": "2023-12-11T22:03:19.408942900Z"
    }
   },
   "id": "497780c1d4d8bd84"
  },
  {
   "cell_type": "code",
   "execution_count": 161,
   "outputs": [],
   "source": [],
   "metadata": {
    "collapsed": false,
    "ExecuteTime": {
     "end_time": "2023-12-11T22:03:19.474751Z",
     "start_time": "2023-12-11T22:03:19.415561300Z"
    }
   },
   "id": "5e87be26fabac943"
  }
 ],
 "metadata": {
  "kernelspec": {
   "display_name": "Python 3",
   "language": "python",
   "name": "python3"
  },
  "language_info": {
   "codemirror_mode": {
    "name": "ipython",
    "version": 2
   },
   "file_extension": ".py",
   "mimetype": "text/x-python",
   "name": "python",
   "nbconvert_exporter": "python",
   "pygments_lexer": "ipython2",
   "version": "2.7.6"
  }
 },
 "nbformat": 4,
 "nbformat_minor": 5
}
